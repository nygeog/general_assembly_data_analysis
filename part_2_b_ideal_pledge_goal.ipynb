{
 "cells": [
  {
   "cell_type": "markdown",
   "metadata": {},
   "source": [
    "Part 2: Qualitative Analysis\n",
    "Create a presentation using Google Slides (max. 5 slides) using the data above (and additional data from those tables) that make clear recommendations on how people can create a successful Kickstarter campaign.\n",
    "\n",
    "* **What's the ideal pledge goal?**"
   ]
  },
  {
   "cell_type": "code",
   "execution_count": 47,
   "metadata": {},
   "outputs": [
    {
     "name": "stdout",
     "output_type": "stream",
     "text": [
      "The autoreload extension is already loaded. To reload it, use:\n",
      "  %reload_ext autoreload\n"
     ]
    }
   ],
   "source": [
    "%load_ext autoreload\n",
    "%autoreload 2\n",
    "%matplotlib inline"
   ]
  },
  {
   "cell_type": "code",
   "execution_count": 48,
   "metadata": {},
   "outputs": [],
   "source": [
    "from tools.helpers import read_json\n",
    "import pandas as pd\n",
    "import numpy as np\n",
    "import matplotlib.pyplot as plt\n",
    "\n",
    "plt.style.use('ggplot')\n",
    "plt.rcParams['figure.figsize'] = [8, 6]"
   ]
  },
  {
   "cell_type": "code",
   "execution_count": 49,
   "metadata": {},
   "outputs": [],
   "source": [
    "in_csv = 'data/input/DSI_kickstarterscrape_dataset.csv'"
   ]
  },
  {
   "cell_type": "code",
   "execution_count": 60,
   "metadata": {},
   "outputs": [],
   "source": [
    "df = pd.read_csv(in_csv, encoding=\"ISO-8859-1\")\n",
    "# if need to convert back to utf-8 https://stackoverflow.com/questions/42456867/convert-pandas-dataframe-to-utf8\n",
    "\n",
    "df = df.rename(columns=lambda x: x.replace(' ', '_'))\n",
    "df['uid'] = df.index + 1"
   ]
  },
  {
   "cell_type": "code",
   "execution_count": 61,
   "metadata": {},
   "outputs": [
    {
     "data": {
      "text/html": [
       "<div>\n",
       "<style scoped>\n",
       "    .dataframe tbody tr th:only-of-type {\n",
       "        vertical-align: middle;\n",
       "    }\n",
       "\n",
       "    .dataframe tbody tr th {\n",
       "        vertical-align: top;\n",
       "    }\n",
       "\n",
       "    .dataframe thead th {\n",
       "        text-align: right;\n",
       "    }\n",
       "</style>\n",
       "<table border=\"1\" class=\"dataframe\">\n",
       "  <thead>\n",
       "    <tr style=\"text-align: right;\">\n",
       "      <th></th>\n",
       "      <th>project_id</th>\n",
       "      <th>name</th>\n",
       "      <th>url</th>\n",
       "      <th>category</th>\n",
       "      <th>subcategory</th>\n",
       "      <th>location</th>\n",
       "      <th>status</th>\n",
       "      <th>goal</th>\n",
       "      <th>pledged</th>\n",
       "      <th>funded_percentage</th>\n",
       "      <th>backers</th>\n",
       "      <th>funded_date</th>\n",
       "      <th>levels</th>\n",
       "      <th>reward_levels</th>\n",
       "      <th>updates</th>\n",
       "      <th>comments</th>\n",
       "      <th>duration</th>\n",
       "      <th>uid</th>\n",
       "    </tr>\n",
       "  </thead>\n",
       "  <tbody>\n",
       "    <tr>\n",
       "      <td>0</td>\n",
       "      <td>39409</td>\n",
       "      <td>WHILE THE TREES SLEEP</td>\n",
       "      <td>http://www.kickstarter.com/projects/emiliesaba...</td>\n",
       "      <td>Film &amp; Video</td>\n",
       "      <td>Short Film</td>\n",
       "      <td>Columbia, MO</td>\n",
       "      <td>successful</td>\n",
       "      <td>10500.0</td>\n",
       "      <td>11545.0</td>\n",
       "      <td>1.099524</td>\n",
       "      <td>66</td>\n",
       "      <td>Fri, 19 Aug 2011 19:28:17 -0000</td>\n",
       "      <td>7</td>\n",
       "      <td>$25,$50,$100,$250,$500,$1,000,$2,500</td>\n",
       "      <td>10</td>\n",
       "      <td>2</td>\n",
       "      <td>30.00</td>\n",
       "      <td>1</td>\n",
       "    </tr>\n",
       "    <tr>\n",
       "      <td>1</td>\n",
       "      <td>126581</td>\n",
       "      <td>Educational Online Trading Card Game</td>\n",
       "      <td>http://www.kickstarter.com/projects/972789543/...</td>\n",
       "      <td>Games</td>\n",
       "      <td>Board &amp; Card Games</td>\n",
       "      <td>Maplewood, NJ</td>\n",
       "      <td>failed</td>\n",
       "      <td>4000.0</td>\n",
       "      <td>20.0</td>\n",
       "      <td>0.005000</td>\n",
       "      <td>2</td>\n",
       "      <td>Mon, 02 Aug 2010 03:59:00 -0000</td>\n",
       "      <td>5</td>\n",
       "      <td>$1,$5,$10,$25,$50</td>\n",
       "      <td>6</td>\n",
       "      <td>0</td>\n",
       "      <td>47.18</td>\n",
       "      <td>2</td>\n",
       "    </tr>\n",
       "    <tr>\n",
       "      <td>2</td>\n",
       "      <td>138119</td>\n",
       "      <td>STRUM</td>\n",
       "      <td>http://www.kickstarter.com/projects/185476022/...</td>\n",
       "      <td>Film &amp; Video</td>\n",
       "      <td>Animation</td>\n",
       "      <td>Los Angeles, CA</td>\n",
       "      <td>live</td>\n",
       "      <td>20000.0</td>\n",
       "      <td>56.0</td>\n",
       "      <td>0.002800</td>\n",
       "      <td>3</td>\n",
       "      <td>Fri, 08 Jun 2012 00:00:31 -0000</td>\n",
       "      <td>10</td>\n",
       "      <td>$1,$10,$25,$40,$50,$100,$250,$1,000,$1,337,$9,001</td>\n",
       "      <td>1</td>\n",
       "      <td>0</td>\n",
       "      <td>28.00</td>\n",
       "      <td>3</td>\n",
       "    </tr>\n",
       "    <tr>\n",
       "      <td>3</td>\n",
       "      <td>237090</td>\n",
       "      <td>GETTING OVER - One son's search to finally kno...</td>\n",
       "      <td>http://www.kickstarter.com/projects/charnick/g...</td>\n",
       "      <td>Film &amp; Video</td>\n",
       "      <td>Documentary</td>\n",
       "      <td>Los Angeles, CA</td>\n",
       "      <td>successful</td>\n",
       "      <td>6000.0</td>\n",
       "      <td>6535.0</td>\n",
       "      <td>1.089167</td>\n",
       "      <td>100</td>\n",
       "      <td>Sun, 08 Apr 2012 02:14:00 -0000</td>\n",
       "      <td>13</td>\n",
       "      <td>$1,$10,$25,$30,$50,$75,$85,$100,$110,$250,$500...</td>\n",
       "      <td>4</td>\n",
       "      <td>0</td>\n",
       "      <td>32.22</td>\n",
       "      <td>4</td>\n",
       "    </tr>\n",
       "    <tr>\n",
       "      <td>4</td>\n",
       "      <td>246101</td>\n",
       "      <td>The Launch of FlyeGrlRoyalty &amp;quot;The New Nam...</td>\n",
       "      <td>http://www.kickstarter.com/projects/flyegrlroy...</td>\n",
       "      <td>Fashion</td>\n",
       "      <td>Fashion</td>\n",
       "      <td>Novi, MI</td>\n",
       "      <td>failed</td>\n",
       "      <td>3500.0</td>\n",
       "      <td>0.0</td>\n",
       "      <td>0.000000</td>\n",
       "      <td>0</td>\n",
       "      <td>Wed, 01 Jun 2011 15:25:39 -0000</td>\n",
       "      <td>6</td>\n",
       "      <td>$10,$25,$50,$100,$150,$250</td>\n",
       "      <td>2</td>\n",
       "      <td>0</td>\n",
       "      <td>30.00</td>\n",
       "      <td>5</td>\n",
       "    </tr>\n",
       "  </tbody>\n",
       "</table>\n",
       "</div>"
      ],
      "text/plain": [
       "   project_id                                               name  \\\n",
       "0       39409                              WHILE THE TREES SLEEP   \n",
       "1      126581               Educational Online Trading Card Game   \n",
       "2      138119                                              STRUM   \n",
       "3      237090  GETTING OVER - One son's search to finally kno...   \n",
       "4      246101  The Launch of FlyeGrlRoyalty &quot;The New Nam...   \n",
       "\n",
       "                                                 url      category  \\\n",
       "0  http://www.kickstarter.com/projects/emiliesaba...  Film & Video   \n",
       "1  http://www.kickstarter.com/projects/972789543/...         Games   \n",
       "2  http://www.kickstarter.com/projects/185476022/...  Film & Video   \n",
       "3  http://www.kickstarter.com/projects/charnick/g...  Film & Video   \n",
       "4  http://www.kickstarter.com/projects/flyegrlroy...       Fashion   \n",
       "\n",
       "          subcategory         location      status     goal  pledged  \\\n",
       "0          Short Film     Columbia, MO  successful  10500.0  11545.0   \n",
       "1  Board & Card Games    Maplewood, NJ      failed   4000.0     20.0   \n",
       "2           Animation  Los Angeles, CA        live  20000.0     56.0   \n",
       "3         Documentary  Los Angeles, CA  successful   6000.0   6535.0   \n",
       "4             Fashion         Novi, MI      failed   3500.0      0.0   \n",
       "\n",
       "   funded_percentage  backers                      funded_date  levels  \\\n",
       "0           1.099524       66  Fri, 19 Aug 2011 19:28:17 -0000       7   \n",
       "1           0.005000        2  Mon, 02 Aug 2010 03:59:00 -0000       5   \n",
       "2           0.002800        3  Fri, 08 Jun 2012 00:00:31 -0000      10   \n",
       "3           1.089167      100  Sun, 08 Apr 2012 02:14:00 -0000      13   \n",
       "4           0.000000        0  Wed, 01 Jun 2011 15:25:39 -0000       6   \n",
       "\n",
       "                                       reward_levels  updates  comments  \\\n",
       "0               $25,$50,$100,$250,$500,$1,000,$2,500       10         2   \n",
       "1                                  $1,$5,$10,$25,$50        6         0   \n",
       "2  $1,$10,$25,$40,$50,$100,$250,$1,000,$1,337,$9,001        1         0   \n",
       "3  $1,$10,$25,$30,$50,$75,$85,$100,$110,$250,$500...        4         0   \n",
       "4                         $10,$25,$50,$100,$150,$250        2         0   \n",
       "\n",
       "   duration  uid  \n",
       "0     30.00    1  \n",
       "1     47.18    2  \n",
       "2     28.00    3  \n",
       "3     32.22    4  \n",
       "4     30.00    5  "
      ]
     },
     "execution_count": 61,
     "metadata": {},
     "output_type": "execute_result"
    }
   ],
   "source": [
    "df.head(5)"
   ]
  },
  {
   "cell_type": "code",
   "execution_count": 71,
   "metadata": {},
   "outputs": [],
   "source": [
    "# filter outliers\n",
    "from scipy import stats\n",
    "\n",
    "dfs = df[['uid', 'funded_percentage', 'goal']]\n",
    "\n",
    "dff = dfs[(np.abs(stats.zscore(dfs)) < 3).all(axis=1)]\n",
    "\n",
    "dfm = dff.merge(df.drop(['funded_percentage', 'goal'], axis=1), how='left', on='uid')\n",
    "\n",
    "dfs = dfm[(dfm.status == 'successful')]\n",
    "dfu = dfm[(dfm.status != 'successful') & (dfm.status != 'live')]\n",
    "\n",
    "dfk = df[(df.status != 'live')].copy()\n",
    "\n",
    "dfm['Final Status'] = np.where(dfm['status']=='successful', 'successful', 'unsuccessful')\n"
   ]
  },
  {
   "cell_type": "code",
   "execution_count": 63,
   "metadata": {},
   "outputs": [
    {
     "data": {
      "text/plain": [
       "count     22943.000000\n",
       "mean       5450.794183\n",
       "std       10868.848403\n",
       "min           1.000000\n",
       "25%        1300.000000\n",
       "50%        3000.000000\n",
       "75%        6000.000000\n",
       "max      500000.000000\n",
       "Name: goal, dtype: float64"
      ]
     },
     "execution_count": 63,
     "metadata": {},
     "output_type": "execute_result"
    }
   ],
   "source": [
    "dfs.goal.describe()"
   ]
  },
  {
   "cell_type": "code",
   "execution_count": 64,
   "metadata": {},
   "outputs": [
    {
     "data": {
      "text/plain": [
       "count     19041.000000\n",
       "mean      13260.633631\n",
       "std       30411.315493\n",
       "min           0.500000\n",
       "25%        2500.000000\n",
       "50%        5000.000000\n",
       "75%       12000.000000\n",
       "max      575000.000000\n",
       "Name: goal, dtype: object"
      ]
     },
     "execution_count": 64,
     "metadata": {},
     "output_type": "execute_result"
    }
   ],
   "source": [
    "dfu.goal.describe().apply(lambda x: format(x, 'f'))"
   ]
  },
  {
   "cell_type": "code",
   "execution_count": 65,
   "metadata": {},
   "outputs": [
    {
     "data": {
      "text/plain": [
       "<matplotlib.axes._subplots.AxesSubplot at 0x123986eb8>"
      ]
     },
     "execution_count": 65,
     "metadata": {},
     "output_type": "execute_result"
    },
    {
     "data": {
      "image/png": "[encoded data removed]",
      "text/plain": [
       "<Figure size 576x432 with 1 Axes>"
      ]
     },
     "metadata": {},
     "output_type": "display_data"
    }
   ],
   "source": [
    "dfs.goal.hist(bins=10)"
   ]
  },
  {
   "cell_type": "code",
   "execution_count": 66,
   "metadata": {},
   "outputs": [
    {
     "data": {
      "text/plain": [
       "<matplotlib.axes._subplots.AxesSubplot at 0x129339da0>"
      ]
     },
     "execution_count": 66,
     "metadata": {},
     "output_type": "execute_result"
    },
    {
     "data": {
      "image/png": "[encoded data removed]",
      "text/plain": [
       "<Figure size 576x432 with 1 Axes>"
      ]
     },
     "metadata": {},
     "output_type": "display_data"
    }
   ],
   "source": [
    "dfu.goal.hist(bins=10)"
   ]
  },
  {
   "cell_type": "code",
   "execution_count": 67,
   "metadata": {},
   "outputs": [
    {
     "data": {
      "text/html": [
       "<div>\n",
       "<style scoped>\n",
       "    .dataframe tbody tr th:only-of-type {\n",
       "        vertical-align: middle;\n",
       "    }\n",
       "\n",
       "    .dataframe tbody tr th {\n",
       "        vertical-align: top;\n",
       "    }\n",
       "\n",
       "    .dataframe thead th {\n",
       "        text-align: right;\n",
       "    }\n",
       "</style>\n",
       "<table border=\"1\" class=\"dataframe\">\n",
       "  <thead>\n",
       "    <tr style=\"text-align: right;\">\n",
       "      <th></th>\n",
       "      <th>project_id</th>\n",
       "      <th>name</th>\n",
       "      <th>url</th>\n",
       "      <th>category</th>\n",
       "      <th>subcategory</th>\n",
       "      <th>location</th>\n",
       "      <th>status</th>\n",
       "      <th>goal</th>\n",
       "      <th>pledged</th>\n",
       "      <th>funded_percentage</th>\n",
       "      <th>backers</th>\n",
       "      <th>funded_date</th>\n",
       "      <th>levels</th>\n",
       "      <th>reward_levels</th>\n",
       "      <th>updates</th>\n",
       "      <th>comments</th>\n",
       "      <th>duration</th>\n",
       "      <th>uid</th>\n",
       "    </tr>\n",
       "  </thead>\n",
       "  <tbody>\n",
       "    <tr>\n",
       "      <td>0</td>\n",
       "      <td>39409</td>\n",
       "      <td>WHILE THE TREES SLEEP</td>\n",
       "      <td>http://www.kickstarter.com/projects/emiliesaba...</td>\n",
       "      <td>Film &amp; Video</td>\n",
       "      <td>Short Film</td>\n",
       "      <td>Columbia, MO</td>\n",
       "      <td>successful</td>\n",
       "      <td>10500.0</td>\n",
       "      <td>11545.0</td>\n",
       "      <td>1.099524</td>\n",
       "      <td>66</td>\n",
       "      <td>Fri, 19 Aug 2011 19:28:17 -0000</td>\n",
       "      <td>7</td>\n",
       "      <td>$25,$50,$100,$250,$500,$1,000,$2,500</td>\n",
       "      <td>10</td>\n",
       "      <td>2</td>\n",
       "      <td>30.00</td>\n",
       "      <td>1</td>\n",
       "    </tr>\n",
       "    <tr>\n",
       "      <td>1</td>\n",
       "      <td>126581</td>\n",
       "      <td>Educational Online Trading Card Game</td>\n",
       "      <td>http://www.kickstarter.com/projects/972789543/...</td>\n",
       "      <td>Games</td>\n",
       "      <td>Board &amp; Card Games</td>\n",
       "      <td>Maplewood, NJ</td>\n",
       "      <td>failed</td>\n",
       "      <td>4000.0</td>\n",
       "      <td>20.0</td>\n",
       "      <td>0.005000</td>\n",
       "      <td>2</td>\n",
       "      <td>Mon, 02 Aug 2010 03:59:00 -0000</td>\n",
       "      <td>5</td>\n",
       "      <td>$1,$5,$10,$25,$50</td>\n",
       "      <td>6</td>\n",
       "      <td>0</td>\n",
       "      <td>47.18</td>\n",
       "      <td>2</td>\n",
       "    </tr>\n",
       "    <tr>\n",
       "      <td>2</td>\n",
       "      <td>138119</td>\n",
       "      <td>STRUM</td>\n",
       "      <td>http://www.kickstarter.com/projects/185476022/...</td>\n",
       "      <td>Film &amp; Video</td>\n",
       "      <td>Animation</td>\n",
       "      <td>Los Angeles, CA</td>\n",
       "      <td>live</td>\n",
       "      <td>20000.0</td>\n",
       "      <td>56.0</td>\n",
       "      <td>0.002800</td>\n",
       "      <td>3</td>\n",
       "      <td>Fri, 08 Jun 2012 00:00:31 -0000</td>\n",
       "      <td>10</td>\n",
       "      <td>$1,$10,$25,$40,$50,$100,$250,$1,000,$1,337,$9,001</td>\n",
       "      <td>1</td>\n",
       "      <td>0</td>\n",
       "      <td>28.00</td>\n",
       "      <td>3</td>\n",
       "    </tr>\n",
       "    <tr>\n",
       "      <td>3</td>\n",
       "      <td>237090</td>\n",
       "      <td>GETTING OVER - One son's search to finally kno...</td>\n",
       "      <td>http://www.kickstarter.com/projects/charnick/g...</td>\n",
       "      <td>Film &amp; Video</td>\n",
       "      <td>Documentary</td>\n",
       "      <td>Los Angeles, CA</td>\n",
       "      <td>successful</td>\n",
       "      <td>6000.0</td>\n",
       "      <td>6535.0</td>\n",
       "      <td>1.089167</td>\n",
       "      <td>100</td>\n",
       "      <td>Sun, 08 Apr 2012 02:14:00 -0000</td>\n",
       "      <td>13</td>\n",
       "      <td>$1,$10,$25,$30,$50,$75,$85,$100,$110,$250,$500...</td>\n",
       "      <td>4</td>\n",
       "      <td>0</td>\n",
       "      <td>32.22</td>\n",
       "      <td>4</td>\n",
       "    </tr>\n",
       "    <tr>\n",
       "      <td>4</td>\n",
       "      <td>246101</td>\n",
       "      <td>The Launch of FlyeGrlRoyalty &amp;quot;The New Nam...</td>\n",
       "      <td>http://www.kickstarter.com/projects/flyegrlroy...</td>\n",
       "      <td>Fashion</td>\n",
       "      <td>Fashion</td>\n",
       "      <td>Novi, MI</td>\n",
       "      <td>failed</td>\n",
       "      <td>3500.0</td>\n",
       "      <td>0.0</td>\n",
       "      <td>0.000000</td>\n",
       "      <td>0</td>\n",
       "      <td>Wed, 01 Jun 2011 15:25:39 -0000</td>\n",
       "      <td>6</td>\n",
       "      <td>$10,$25,$50,$100,$150,$250</td>\n",
       "      <td>2</td>\n",
       "      <td>0</td>\n",
       "      <td>30.00</td>\n",
       "      <td>5</td>\n",
       "    </tr>\n",
       "    <tr>\n",
       "      <td>...</td>\n",
       "      <td>...</td>\n",
       "      <td>...</td>\n",
       "      <td>...</td>\n",
       "      <td>...</td>\n",
       "      <td>...</td>\n",
       "      <td>...</td>\n",
       "      <td>...</td>\n",
       "      <td>...</td>\n",
       "      <td>...</td>\n",
       "      <td>...</td>\n",
       "      <td>...</td>\n",
       "      <td>...</td>\n",
       "      <td>...</td>\n",
       "      <td>...</td>\n",
       "      <td>...</td>\n",
       "      <td>...</td>\n",
       "      <td>...</td>\n",
       "      <td>...</td>\n",
       "    </tr>\n",
       "    <tr>\n",
       "      <td>45952</td>\n",
       "      <td>2147336747</td>\n",
       "      <td>The Dance Project</td>\n",
       "      <td>http://www.kickstarter.com/projects/685772205/...</td>\n",
       "      <td>Dance</td>\n",
       "      <td>Dance</td>\n",
       "      <td>Austin, TX</td>\n",
       "      <td>successful</td>\n",
       "      <td>500.0</td>\n",
       "      <td>601.0</td>\n",
       "      <td>1.202000</td>\n",
       "      <td>13</td>\n",
       "      <td>Fri, 30 Mar 2012 13:57:00 -0000</td>\n",
       "      <td>3</td>\n",
       "      <td>$20,$50,$100</td>\n",
       "      <td>2</td>\n",
       "      <td>0</td>\n",
       "      <td>37.83</td>\n",
       "      <td>45953</td>\n",
       "    </tr>\n",
       "    <tr>\n",
       "      <td>45953</td>\n",
       "      <td>2147346811</td>\n",
       "      <td>new album from J-Sw!ft The Adventures of Negro...</td>\n",
       "      <td>http://www.kickstarter.com/projects/170926480/...</td>\n",
       "      <td>Music</td>\n",
       "      <td>Hip-Hop</td>\n",
       "      <td>Los Angeles, CA</td>\n",
       "      <td>failed</td>\n",
       "      <td>10000.0</td>\n",
       "      <td>75.0</td>\n",
       "      <td>0.007500</td>\n",
       "      <td>2</td>\n",
       "      <td>Sun, 22 Apr 2012 02:12:10 -0000</td>\n",
       "      <td>14</td>\n",
       "      <td>$1,$5,$10,$25,$50,$50,$75,$100,$200,$250,$500,...</td>\n",
       "      <td>1</td>\n",
       "      <td>1</td>\n",
       "      <td>59.96</td>\n",
       "      <td>45954</td>\n",
       "    </tr>\n",
       "    <tr>\n",
       "      <td>45954</td>\n",
       "      <td>2147367534</td>\n",
       "      <td>ELIZABETH REX</td>\n",
       "      <td>http://www.kickstarter.com/projects/elizabethr...</td>\n",
       "      <td>Music</td>\n",
       "      <td>Rock</td>\n",
       "      <td>Los Angeles, CA</td>\n",
       "      <td>successful</td>\n",
       "      <td>10000.0</td>\n",
       "      <td>10000.0</td>\n",
       "      <td>1.000000</td>\n",
       "      <td>58</td>\n",
       "      <td>Mon, 16 Jan 2012 05:00:00 -0000</td>\n",
       "      <td>4</td>\n",
       "      <td>$10,$25,$100,$500</td>\n",
       "      <td>2</td>\n",
       "      <td>0</td>\n",
       "      <td>27.32</td>\n",
       "      <td>45955</td>\n",
       "    </tr>\n",
       "    <tr>\n",
       "      <td>45955</td>\n",
       "      <td>2147369705</td>\n",
       "      <td>Dragon Keepers IV Book Project</td>\n",
       "      <td>http://www.kickstarter.com/projects/brucegoldw...</td>\n",
       "      <td>Publishing</td>\n",
       "      <td>Fiction</td>\n",
       "      <td>Vero Beach, FL</td>\n",
       "      <td>failed</td>\n",
       "      <td>2999.0</td>\n",
       "      <td>257.0</td>\n",
       "      <td>0.085695</td>\n",
       "      <td>11</td>\n",
       "      <td>Sat, 19 May 2012 19:44:47 -0000</td>\n",
       "      <td>7</td>\n",
       "      <td>$15,$16,$19,$29,$29,$39,$75</td>\n",
       "      <td>17</td>\n",
       "      <td>0</td>\n",
       "      <td>30.00</td>\n",
       "      <td>45956</td>\n",
       "    </tr>\n",
       "    <tr>\n",
       "      <td>45956</td>\n",
       "      <td>2147460119</td>\n",
       "      <td>Moments of Insight</td>\n",
       "      <td>http://www.kickstarter.com/projects/1743305220...</td>\n",
       "      <td>Art</td>\n",
       "      <td>Conceptual Art</td>\n",
       "      <td>Bozeman, MT</td>\n",
       "      <td>successful</td>\n",
       "      <td>18000.0</td>\n",
       "      <td>18758.0</td>\n",
       "      <td>1.042111</td>\n",
       "      <td>53</td>\n",
       "      <td>Thu, 04 Aug 2011 04:30:00 -0000</td>\n",
       "      <td>10</td>\n",
       "      <td>$25,$25,$50,$100,$125,$250,$500,$1,250,$2,500,...</td>\n",
       "      <td>20</td>\n",
       "      <td>4</td>\n",
       "      <td>40.38</td>\n",
       "      <td>45957</td>\n",
       "    </tr>\n",
       "  </tbody>\n",
       "</table>\n",
       "<p>45957 rows × 18 columns</p>\n",
       "</div>"
      ],
      "text/plain": [
       "       project_id                                               name  \\\n",
       "0           39409                              WHILE THE TREES SLEEP   \n",
       "1          126581               Educational Online Trading Card Game   \n",
       "2          138119                                              STRUM   \n",
       "3          237090  GETTING OVER - One son's search to finally kno...   \n",
       "4          246101  The Launch of FlyeGrlRoyalty &quot;The New Nam...   \n",
       "...           ...                                                ...   \n",
       "45952  2147336747                                  The Dance Project   \n",
       "45953  2147346811  new album from J-Sw!ft The Adventures of Negro...   \n",
       "45954  2147367534                                      ELIZABETH REX   \n",
       "45955  2147369705                     Dragon Keepers IV Book Project   \n",
       "45956  2147460119                                 Moments of Insight   \n",
       "\n",
       "                                                     url      category  \\\n",
       "0      http://www.kickstarter.com/projects/emiliesaba...  Film & Video   \n",
       "1      http://www.kickstarter.com/projects/972789543/...         Games   \n",
       "2      http://www.kickstarter.com/projects/185476022/...  Film & Video   \n",
       "3      http://www.kickstarter.com/projects/charnick/g...  Film & Video   \n",
       "4      http://www.kickstarter.com/projects/flyegrlroy...       Fashion   \n",
       "...                                                  ...           ...   \n",
       "45952  http://www.kickstarter.com/projects/685772205/...         Dance   \n",
       "45953  http://www.kickstarter.com/projects/170926480/...         Music   \n",
       "45954  http://www.kickstarter.com/projects/elizabethr...         Music   \n",
       "45955  http://www.kickstarter.com/projects/brucegoldw...    Publishing   \n",
       "45956  http://www.kickstarter.com/projects/1743305220...           Art   \n",
       "\n",
       "              subcategory         location      status     goal  pledged  \\\n",
       "0              Short Film     Columbia, MO  successful  10500.0  11545.0   \n",
       "1      Board & Card Games    Maplewood, NJ      failed   4000.0     20.0   \n",
       "2               Animation  Los Angeles, CA        live  20000.0     56.0   \n",
       "3             Documentary  Los Angeles, CA  successful   6000.0   6535.0   \n",
       "4                 Fashion         Novi, MI      failed   3500.0      0.0   \n",
       "...                   ...              ...         ...      ...      ...   \n",
       "45952               Dance       Austin, TX  successful    500.0    601.0   \n",
       "45953             Hip-Hop  Los Angeles, CA      failed  10000.0     75.0   \n",
       "45954                Rock  Los Angeles, CA  successful  10000.0  10000.0   \n",
       "45955             Fiction   Vero Beach, FL      failed   2999.0    257.0   \n",
       "45956      Conceptual Art      Bozeman, MT  successful  18000.0  18758.0   \n",
       "\n",
       "       funded_percentage  backers                      funded_date  levels  \\\n",
       "0               1.099524       66  Fri, 19 Aug 2011 19:28:17 -0000       7   \n",
       "1               0.005000        2  Mon, 02 Aug 2010 03:59:00 -0000       5   \n",
       "2               0.002800        3  Fri, 08 Jun 2012 00:00:31 -0000      10   \n",
       "3               1.089167      100  Sun, 08 Apr 2012 02:14:00 -0000      13   \n",
       "4               0.000000        0  Wed, 01 Jun 2011 15:25:39 -0000       6   \n",
       "...                  ...      ...                              ...     ...   \n",
       "45952           1.202000       13  Fri, 30 Mar 2012 13:57:00 -0000       3   \n",
       "45953           0.007500        2  Sun, 22 Apr 2012 02:12:10 -0000      14   \n",
       "45954           1.000000       58  Mon, 16 Jan 2012 05:00:00 -0000       4   \n",
       "45955           0.085695       11  Sat, 19 May 2012 19:44:47 -0000       7   \n",
       "45956           1.042111       53  Thu, 04 Aug 2011 04:30:00 -0000      10   \n",
       "\n",
       "                                           reward_levels  updates  comments  \\\n",
       "0                   $25,$50,$100,$250,$500,$1,000,$2,500       10         2   \n",
       "1                                      $1,$5,$10,$25,$50        6         0   \n",
       "2      $1,$10,$25,$40,$50,$100,$250,$1,000,$1,337,$9,001        1         0   \n",
       "3      $1,$10,$25,$30,$50,$75,$85,$100,$110,$250,$500...        4         0   \n",
       "4                             $10,$25,$50,$100,$150,$250        2         0   \n",
       "...                                                  ...      ...       ...   \n",
       "45952                                       $20,$50,$100        2         0   \n",
       "45953  $1,$5,$10,$25,$50,$50,$75,$100,$200,$250,$500,...        1         1   \n",
       "45954                                  $10,$25,$100,$500        2         0   \n",
       "45955                        $15,$16,$19,$29,$29,$39,$75       17         0   \n",
       "45956  $25,$25,$50,$100,$125,$250,$500,$1,250,$2,500,...       20         4   \n",
       "\n",
       "       duration    uid  \n",
       "0         30.00      1  \n",
       "1         47.18      2  \n",
       "2         28.00      3  \n",
       "3         32.22      4  \n",
       "4         30.00      5  \n",
       "...         ...    ...  \n",
       "45952     37.83  45953  \n",
       "45953     59.96  45954  \n",
       "45954     27.32  45955  \n",
       "45955     30.00  45956  \n",
       "45956     40.38  45957  \n",
       "\n",
       "[45957 rows x 18 columns]"
      ]
     },
     "execution_count": 67,
     "metadata": {},
     "output_type": "execute_result"
    }
   ],
   "source": [
    "df"
   ]
  },
  {
   "cell_type": "code",
   "execution_count": 68,
   "metadata": {},
   "outputs": [
    {
     "data": {
      "text/plain": [
       "<matplotlib.axes._subplots.AxesSubplot at 0x123a8a550>"
      ]
     },
     "execution_count": 68,
     "metadata": {},
     "output_type": "execute_result"
    },
    {
     "data": {
      "image/png": "[encoded data removed]",
      "text/plain": [
       "<Figure size 576x432 with 1 Axes>"
      ]
     },
     "metadata": {},
     "output_type": "display_data"
    }
   ],
   "source": [
    "df.plot()"
   ]
  },
  {
   "cell_type": "code",
   "execution_count": 75,
   "metadata": {},
   "outputs": [
    {
     "data": {
      "text/plain": [
       "<matplotlib.collections.PathCollection at 0x1240ebf60>"
      ]
     },
     "execution_count": 75,
     "metadata": {},
     "output_type": "execute_result"
    },
    {
     "data": {
      "image/png": "[encoded data removed]",
      "text/plain": [
       "<Figure size 576x432 with 1 Axes>"
      ]
     },
     "metadata": {},
     "output_type": "display_data"
    }
   ],
   "source": [
    "colors = {'failed': 'red', 'unsuccessful': 'red','live': 'grey', 'canceled': 'orange', 'suspended': 'yellow', 'successful': 'dodgerblue'}\n",
    "plt.scatter(dfm.goal, dfm.funded_percentage, facecolors='none', edgecolors=dfm['Final Status'].apply(lambda x: colors[x]))  # s=dfm.funded_percentage, "
   ]
  },
  {
   "cell_type": "code",
   "execution_count": 77,
   "metadata": {},
   "outputs": [
    {
     "data": {
      "text/plain": [
       "(array([4.489e+04, 6.620e+02, 1.560e+02, 7.000e+01, 5.600e+01, 2.700e+01,\n",
       "        2.000e+01, 3.000e+00, 2.100e+01, 4.000e+00]),\n",
       " array([5.0000000e-01, 5.7500450e+04, 1.1500040e+05, 1.7250035e+05,\n",
       "        2.3000030e+05, 2.8750025e+05, 3.4500020e+05, 4.0250015e+05,\n",
       "        4.6000010e+05, 5.1750005e+05, 5.7500000e+05]),\n",
       " <a list of 10 Patch objects>)"
      ]
     },
     "execution_count": 77,
     "metadata": {},
     "output_type": "execute_result"
    },
    {
     "data": {
      "image/png": "[encoded data removed]",
      "text/plain": [
       "<Figure size 576x432 with 1 Axes>"
      ]
     },
     "metadata": {},
     "output_type": "display_data"
    }
   ],
   "source": [
    "plt.hist(dfm.goal)"
   ]
  },
  {
   "cell_type": "code",
   "execution_count": 95,
   "metadata": {},
   "outputs": [
    {
     "data": {
      "text/plain": [
       "<matplotlib.legend.Legend at 0x12757b860>"
      ]
     },
     "execution_count": 95,
     "metadata": {},
     "output_type": "execute_result"
    },
    {
     "data": {
      "image/png": "[encoded data removed]",
      "text/plain": [
       "<Figure size 576x432 with 1 Axes>"
      ]
     },
     "metadata": {},
     "output_type": "display_data"
    }
   ],
   "source": [
    "dfs = dfm[(dfm.status == 'successful')]\n",
    "dfu = dfm[(dfm.status != 'successful') & (dfm.status != 'live')]\n",
    "dfms = dfm[(dfm.status == 'successful')]\n",
    "dfmu = dfm[(dfm.status != 'successful') & (dfm.status != 'live')]\n",
    "\n",
    "dfms = dfms[['uid', 'goal']]\n",
    "dfmu = dfmu[['uid', 'goal']]\n",
    "\n",
    "dfms = dfms[(np.abs(stats.zscore(dfms)) < 3).all(axis=1)]\n",
    "dfmu = dfmu[(np.abs(stats.zscore(dfmu)) < 3).all(axis=1)]\n",
    "\n",
    "\n",
    "x1 = list(dfms.goal)\n",
    "x2 = list(dfmu.goal)\n",
    "\n",
    "\n",
    "# Assign colors for each airline and the names\n",
    "colors = ['dodgerblue', 'red'] #, '#F0E442', '#009E73', '#D55E00']\n",
    "\n",
    "# Plot formatting\n",
    "plt.xlabel('Goal in Dollars ($)')\n",
    "plt.ylabel('Count Campaigns')\n",
    "plt.title('Successful and Unsuccessful Campaigns Count by Goal Bins Histogram')\n",
    "\n",
    "\n",
    "plt.hist(\n",
    "    [x1, x2], \n",
    "    bins=[0, 2500, 5000, 7500, 10000, 12500, 15000, 17500, 20000, 22500, 25000, 27500, 30000, 32500, 35000, 40000, 42500, 45000, 47250, 50000,],\n",
    "    # bins=30,\n",
    "    density=False,\n",
    "    color = colors,\n",
    "    # labels=['masdfadsfds', 'sasdfdass'],\n",
    "    \n",
    ")\n",
    "plt.legend(labels=['Successful Campaign', 'Unsuccessful Campaign'], fontsize=12)\n",
    "# plt.axvline(x=50, color='black', linestyle='--', linewidth=5)\n",
    "# plt.text(\n",
    "#     52, 5000, \n",
    "#     'Suggested Day Limit', \n",
    "#     horizontalalignment='left',\n",
    "#     verticalalignment='center',\n",
    "#     fontsize=15\n",
    "# )\n",
    "\n",
    "# plt.xticks([0, 5000, 10000, 15000, 20000, 25000, 30000, 35000, 40000, 45000, 50000, 55000, 60000, 65000, 70000])"
   ]
  },
  {
   "cell_type": "code",
   "execution_count": null,
   "metadata": {},
   "outputs": [],
   "source": []
  }
 ],
 "metadata": {
  "kernelspec": {
   "display_name": "Python 3",
   "language": "python",
   "name": "python3"
  },
  "language_info": {
   "codemirror_mode": {
    "name": "ipython",
    "version": 3
   },
   "file_extension": ".py",
   "mimetype": "text/x-python",
   "name": "python",
   "nbconvert_exporter": "python",
   "pygments_lexer": "ipython3",
   "version": "3.7.2"
  }
 },
 "nbformat": 4,
 "nbformat_minor": 2
}
