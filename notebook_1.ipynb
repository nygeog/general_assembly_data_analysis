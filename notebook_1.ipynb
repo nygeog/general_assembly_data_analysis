{
 "cells": [
  {
   "cell_type": "markdown",
   "metadata": {},
   "source": [
    "# Tasks\n",
    "\n",
    "* What is the mean (total) pledge that projects get? (not per backer) *Your answer may vary by +/- 5%\n",
    "\n",
    "    * $2,245\n",
    "    \n",
    "    * $6,750\n",
    "    \n",
    "    * $10,981\n",
    "    \n",
    "    * $4,980\n",
    "\n",
    "* Create a histogram that shows the distribution for number of backers.\n",
    "\n",
    "* What is the skew of the distribution? \n",
    "\n",
    "* Is the ‘duration’ variable normally distributed? \n",
    "    * Yes\n",
    "    * No\n",
    "\n",
    "* If you could collect data on another attribute of these projects, what would it be and why? \n"
   ]
  },
  {
   "cell_type": "code",
   "execution_count": 56,
   "metadata": {},
   "outputs": [
    {
     "name": "stdout",
     "output_type": "stream",
     "text": [
      "The autoreload extension is already loaded. To reload it, use:\n",
      "  %reload_ext autoreload\n"
     ]
    }
   ],
   "source": [
    "%load_ext autoreload\n",
    "\n",
    "%autoreload 2"
   ]
  },
  {
   "cell_type": "code",
   "execution_count": 57,
   "metadata": {},
   "outputs": [],
   "source": [
    "%matplotlib inline"
   ]
  },
  {
   "cell_type": "code",
   "execution_count": 58,
   "metadata": {},
   "outputs": [],
   "source": [
    "from tools.helpers import read_json\n",
    "import pandas as pd\n",
    "import numpy as np"
   ]
  },
  {
   "cell_type": "code",
   "execution_count": 59,
   "metadata": {},
   "outputs": [],
   "source": [
    "in_csv = 'data/input/DSI_kickstarterscrape_dataset.csv'"
   ]
  },
  {
   "cell_type": "code",
   "execution_count": 60,
   "metadata": {},
   "outputs": [],
   "source": [
    "is_number = np.vectorize(lambda x: np.issubdtype(x, np.number))"
   ]
  },
  {
   "cell_type": "code",
   "execution_count": 61,
   "metadata": {},
   "outputs": [],
   "source": [
    "df = pd.read_csv(in_csv, encoding=\"ISO-8859-1\")\n",
    "# if need to convert back to utf-8 https://stackoverflow.com/questions/42456867/convert-pandas-dataframe-to-utf8"
   ]
  },
  {
   "cell_type": "code",
   "execution_count": 62,
   "metadata": {},
   "outputs": [
    {
     "data": {
      "text/plain": [
       "Index(['project id', 'name', 'url', 'category', 'subcategory', 'location',\n",
       "       'status', 'goal', 'pledged', 'funded percentage', 'backers',\n",
       "       'funded date', 'levels', 'reward levels', 'updates', 'comments',\n",
       "       'duration'],\n",
       "      dtype='object')"
      ]
     },
     "execution_count": 62,
     "metadata": {},
     "output_type": "execute_result"
    }
   ],
   "source": [
    "df.columns"
   ]
  },
  {
   "cell_type": "markdown",
   "metadata": {},
   "source": [
    "# Mean (total) pledge for projects"
   ]
  },
  {
   "cell_type": "code",
   "execution_count": 63,
   "metadata": {},
   "outputs": [
    {
     "name": "stdout",
     "output_type": "stream",
     "text": [
      "project id - mean 1080799735.911439:\n",
      "goal - mean 11942.709521509238:\n",
      "\n",
      "\u001b[1mpledged - mean: 4980.749678963979 \u001b[0m\n",
      "\n",
      "funded percentage - mean 1.8501285983504365:\n",
      "backers - mean 69.97319233196248:\n",
      "levels - mean 8.004939399873795:\n",
      "updates - mean 4.085079530865809:\n",
      "comments - mean 8.379528689862262:\n",
      "duration - mean 39.9955469242988:\n"
     ]
    }
   ],
   "source": [
    "for i in df.columns:\n",
    "    if is_number(df[i].dtype):\n",
    "        if i == 'pledged':\n",
    "            print('')\n",
    "            print('\\033[1m{} - mean: {} \\033[0m'.format(i, df[i].mean()))\n",
    "            print('')\n",
    "        else:\n",
    "            print('{} - mean {}:'.format(i, df[i].mean()))"
   ]
  },
  {
   "cell_type": "markdown",
   "metadata": {},
   "source": [
    "# Histogram of distribution for Number of Backers."
   ]
  },
  {
   "cell_type": "code",
   "execution_count": 66,
   "metadata": {},
   "outputs": [
    {
     "data": {
      "text/plain": [
       "<matplotlib.axes._subplots.AxesSubplot at 0x13871e160>"
      ]
     },
     "execution_count": 66,
     "metadata": {},
     "output_type": "execute_result"
    },
    {
     "data": {
      "image/png": "[encoded data removed]",
      "text/plain": [
       "<Figure size 432x288 with 1 Axes>"
      ]
     },
     "metadata": {
      "needs_background": "light"
     },
     "output_type": "display_data"
    }
   ],
   "source": [
    "# df.backers.hist(bins='auto')\n",
    "# https://datascience.stackexchange.com/questions/27116/histogram-plot-with-plt-hist\n",
    "\n",
    "df.backers.hist(bins=50)"
   ]
  },
  {
   "cell_type": "code",
   "execution_count": null,
   "metadata": {},
   "outputs": [],
   "source": []
  },
  {
   "cell_type": "markdown",
   "metadata": {},
   "source": [
    "# Skew of the distribution"
   ]
  },
  {
   "cell_type": "code",
   "execution_count": 67,
   "metadata": {},
   "outputs": [
    {
     "name": "stdout",
     "output_type": "stream",
     "text": [
      "skewness of normal distribution (should be 0): 87.47111920387329\n"
     ]
    }
   ],
   "source": [
    "import numpy as np\n",
    "from scipy.stats import kurtosis\n",
    "from scipy.stats import skew\n",
    "\n",
    "# x = np.linspace( -5, 5, 1000 )\n",
    "# y = 1./(np.sqrt(2.*np.pi)) * np.exp( -.5*(x)**2  )  # normal distribution\n",
    "\n",
    "# print( 'excess kurtosis of normal distribution (should be 0): {}'.format( kurtosis(y) ))\n",
    "print( 'skewness of normal distribution (should be 0): {}'.format( skew(df.backers) ))\n",
    "\n",
    "# https://stackoverflow.com/questions/45483890/how-to-correctly-use-scipys-skew-and-kurtosis-functions"
   ]
  },
  {
   "cell_type": "code",
   "execution_count": null,
   "metadata": {},
   "outputs": [],
   "source": []
  }
 ],
 "metadata": {
  "kernelspec": {
   "display_name": "Python 3",
   "language": "python",
   "name": "python3"
  },
  "language_info": {
   "codemirror_mode": {
    "name": "ipython",
    "version": 3
   },
   "file_extension": ".py",
   "mimetype": "text/x-python",
   "name": "python",
   "nbconvert_exporter": "python",
   "pygments_lexer": "ipython3",
   "version": "3.7.3"
  }
 },
 "nbformat": 4,
 "nbformat_minor": 2
}
