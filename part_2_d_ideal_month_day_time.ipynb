{
 "cells": [
  {
   "cell_type": "markdown",
   "metadata": {},
   "source": [
    "Part 2: Qualitative Analysis\n",
    "Create a presentation using Google Slides (max. 5 slides) using the data above (and additional data from those tables) that make clear recommendations on how people can create a successful Kickstarter campaign.\n",
    "\n",
    "* **Is there an ideal month/day/time to launch a campaign?**"
   ]
  },
  {
   "cell_type": "code",
   "execution_count": 137,
   "metadata": {},
   "outputs": [
    {
     "name": "stdout",
     "output_type": "stream",
     "text": [
      "The autoreload extension is already loaded. To reload it, use:\n",
      "  %reload_ext autoreload\n"
     ]
    }
   ],
   "source": [
    "%load_ext autoreload\n",
    "%autoreload 2\n",
    "%matplotlib inline"
   ]
  },
  {
   "cell_type": "code",
   "execution_count": 138,
   "metadata": {},
   "outputs": [],
   "source": [
    "from tools.helpers import read_json\n",
    "import pandas as pd\n",
    "import numpy as np\n",
    "import matplotlib.pyplot as plt\n",
    "\n",
    "plt.style.use('ggplot')\n",
    "plt.rcParams['figure.figsize'] = [8, 2]"
   ]
  },
  {
   "cell_type": "code",
   "execution_count": 139,
   "metadata": {},
   "outputs": [],
   "source": [
    "in_csv = 'data/input/DSI_kickstarterscrape_dataset.csv'\n",
    "df = pd.read_csv(in_csv, encoding=\"ISO-8859-1\")\n",
    "# if need to convert back to utf-8 https://stackoverflow.com/questions/42456867/convert-pandas-dataframe-to-utf8\n",
    "\n",
    "df = df.rename(columns=lambda x: x.replace(' ', '_'))\n",
    "df['uid'] = df.index + 1"
   ]
  },
  {
   "cell_type": "code",
   "execution_count": 140,
   "metadata": {},
   "outputs": [
    {
     "data": {
      "text/plain": [
       "project_id             int64\n",
       "name                  object\n",
       "url                   object\n",
       "category              object\n",
       "subcategory           object\n",
       "location              object\n",
       "status                object\n",
       "goal                 float64\n",
       "pledged              float64\n",
       "funded_percentage    float64\n",
       "backers                int64\n",
       "funded_date           object\n",
       "levels                 int64\n",
       "reward_levels         object\n",
       "updates                int64\n",
       "comments               int64\n",
       "duration             float64\n",
       "uid                    int64\n",
       "dtype: object"
      ]
     },
     "execution_count": 140,
     "metadata": {},
     "output_type": "execute_result"
    }
   ],
   "source": [
    "# bar plot showing successful vs. unsuccessful plots by category\n",
    "df.dtypes"
   ]
  },
  {
   "cell_type": "code",
   "execution_count": 141,
   "metadata": {},
   "outputs": [],
   "source": [
    "df['funded_date'] = df.funded_date.astype('datetime64[ns]')\n",
    "df['duration'] = df['duration'].astype('timedelta64[D]')\n",
    "df['launch_datetime'] = df.funded_date - df.duration"
   ]
  },
  {
   "cell_type": "code",
   "execution_count": 142,
   "metadata": {},
   "outputs": [],
   "source": [
    "df['launch_month'] = df['launch_datetime'].dt.month\n",
    "df['launch_day_of_week'] = df['launch_datetime'].dt.dayofweek\n",
    "# It is assumed the week starts on Monday, which is denoted by 0 and ends on Sunday which is denoted by 6. \n",
    "df['launch_time_of_day'] = df['launch_datetime'].dt.time\n",
    "#df['launch_time_of_day'] = df['launch_time_of_day'].dt.round('Hour')  \n",
    "df['launch_time_of_day_hour'] = df['launch_datetime'].dt.round('H').dt.hour"
   ]
  },
  {
   "cell_type": "code",
   "execution_count": 143,
   "metadata": {},
   "outputs": [],
   "source": [
    "dfk = df[(df.status != 'live')].copy()\n",
    "\n",
    "dfk['Final Status'] = np.where(dfk['status']=='successful', 'successful', 'unsuccessful')\n",
    "\n",
    "dff = dfk[['uid', 'launch_month', 'launch_day_of_week', 'launch_time_of_day_hour', 'Final Status']]"
   ]
  },
  {
   "cell_type": "code",
   "execution_count": 144,
   "metadata": {},
   "outputs": [],
   "source": [
    "df_month = dff[['uid', 'launch_month', 'Final Status']].groupby(['launch_month', 'Final Status'], as_index=False).count()"
   ]
  },
  {
   "cell_type": "code",
   "execution_count": 145,
   "metadata": {},
   "outputs": [],
   "source": [
    "#df_month.plot(df_month.launch_month, df_month.uid, df_month['Final Status'])"
   ]
  },
  {
   "cell_type": "code",
   "execution_count": 146,
   "metadata": {},
   "outputs": [],
   "source": [
    "colors = {'unsuccessful': 'red', 'successful': 'dodgerblue'}"
   ]
  },
  {
   "cell_type": "code",
   "execution_count": 147,
   "metadata": {},
   "outputs": [
    {
     "name": "stderr",
     "output_type": "stream",
     "text": [
      "/Users/danielmsheehan/Documents/GitHub/general_assembly_data_analysis/venv/lib/python3.7/site-packages/pandas/plotting/_matplotlib/core.py:203: UserWarning: 'colors' is being deprecated. Please use 'color'instead of 'colors'\n",
      "  \"'colors' is being deprecated. Please use 'color'\"\n"
     ]
    },
    {
     "data": {
      "text/plain": [
       "([<matplotlib.axis.XTick at 0x119f660b8>,\n",
       "  <matplotlib.axis.XTick at 0x11865e9b0>,\n",
       "  <matplotlib.axis.XTick at 0x11ac27da0>,\n",
       "  <matplotlib.axis.XTick at 0x11ac0f320>,\n",
       "  <matplotlib.axis.XTick at 0x11ac0f828>,\n",
       "  <matplotlib.axis.XTick at 0x11ac0fd68>,\n",
       "  <matplotlib.axis.XTick at 0x11ac0f4e0>,\n",
       "  <matplotlib.axis.XTick at 0x11865e710>,\n",
       "  <matplotlib.axis.XTick at 0x11ac09a58>,\n",
       "  <matplotlib.axis.XTick at 0x11ac09c50>,\n",
       "  <matplotlib.axis.XTick at 0x11ac16198>,\n",
       "  <matplotlib.axis.XTick at 0x11ac16630>],\n",
       " <a list of 12 Text xticklabel objects>)"
      ]
     },
     "execution_count": 147,
     "metadata": {},
     "output_type": "execute_result"
    },
    {
     "data": {
      "image/png": "[encoded data removed]",
      "text/plain": [
       "<Figure size 576x144 with 1 Axes>"
      ]
     },
     "metadata": {},
     "output_type": "display_data"
    }
   ],
   "source": [
    "dff[['uid', 'launch_month', 'Final Status']].groupby(['launch_month', 'Final Status']).count()['uid'].unstack().plot(colors=['dodgerblue', 'red'])\n",
    "\n",
    "plt.xlabel('Launch Month')\n",
    "plt.xticks([1., 2., 3., 4., 5., 6., 7, 8., 9., 10., 11., 12.])"
   ]
  },
  {
   "cell_type": "code",
   "execution_count": 151,
   "metadata": {},
   "outputs": [
    {
     "data": {
      "text/plain": [
       "([<matplotlib.axis.XTick at 0x11aca0e10>,\n",
       "  <matplotlib.axis.XTick at 0x11ac9ecf8>,\n",
       "  <matplotlib.axis.XTick at 0x1185edda0>,\n",
       "  <matplotlib.axis.XTick at 0x1185dd438>,\n",
       "  <matplotlib.axis.XTick at 0x1185ddbe0>,\n",
       "  <matplotlib.axis.XTick at 0x11fe0b198>,\n",
       "  <matplotlib.axis.XTick at 0x11fe0b6d8>],\n",
       " <a list of 7 Text xticklabel objects>)"
      ]
     },
     "execution_count": 151,
     "metadata": {},
     "output_type": "execute_result"
    },
    {
     "data": {
      "image/png": "[encoded data removed]",
      "text/plain": [
       "<Figure size 576x144 with 1 Axes>"
      ]
     },
     "metadata": {},
     "output_type": "display_data"
    }
   ],
   "source": [
    "dff[['uid', 'launch_day_of_week', 'Final Status']].groupby(['launch_day_of_week', 'Final Status']).count()['uid'].unstack().plot(colors=['dodgerblue', 'red'])\n",
    "\n",
    "plt.xlabel('Launch Day of Week (Monday is 0, Sunday is 6)')\n",
    "plt.xticks([0., 1., 2., 3., 4., 5., 6.])"
   ]
  },
  {
   "cell_type": "code",
   "execution_count": 152,
   "metadata": {},
   "outputs": [
    {
     "data": {
      "text/plain": [
       "([<matplotlib.axis.XTick at 0x11fdf9b38>,\n",
       "  <matplotlib.axis.XTick at 0x11fdf9470>,\n",
       "  <matplotlib.axis.XTick at 0x1184fbb00>,\n",
       "  <matplotlib.axis.XTick at 0x1184fe1d0>,\n",
       "  <matplotlib.axis.XTick at 0x1184fe550>,\n",
       "  <matplotlib.axis.XTick at 0x1184fea90>,\n",
       "  <matplotlib.axis.XTick at 0x11fee1630>,\n",
       "  <matplotlib.axis.XTick at 0x1185077b8>,\n",
       "  <matplotlib.axis.XTick at 0x1185079b0>,\n",
       "  <matplotlib.axis.XTick at 0x118507e80>,\n",
       "  <matplotlib.axis.XTick at 0x118507748>,\n",
       "  <matplotlib.axis.XTick at 0x1184feb38>,\n",
       "  <matplotlib.axis.XTick at 0x1184fbfd0>,\n",
       "  <matplotlib.axis.XTick at 0x11fea67b8>,\n",
       "  <matplotlib.axis.XTick at 0x11fea6d30>,\n",
       "  <matplotlib.axis.XTick at 0x11fe892e8>,\n",
       "  <matplotlib.axis.XTick at 0x11fe89860>,\n",
       "  <matplotlib.axis.XTick at 0x11fe89dd8>,\n",
       "  <matplotlib.axis.XTick at 0x11fea5390>,\n",
       "  <matplotlib.axis.XTick at 0x11fea5908>,\n",
       "  <matplotlib.axis.XTick at 0x11fe89940>,\n",
       "  <matplotlib.axis.XTick at 0x11aca0ba8>,\n",
       "  <matplotlib.axis.XTick at 0x11fea5da0>,\n",
       "  <matplotlib.axis.XTick at 0x11fe93358>],\n",
       " <a list of 24 Text xticklabel objects>)"
      ]
     },
     "execution_count": 152,
     "metadata": {},
     "output_type": "execute_result"
    },
    {
     "data": {
      "image/png": "[encoded data removed]",
      "text/plain": [
       "<Figure size 576x144 with 1 Axes>"
      ]
     },
     "metadata": {},
     "output_type": "display_data"
    }
   ],
   "source": [
    "dff[['uid', 'launch_time_of_day_hour', 'Final Status']].groupby(['launch_time_of_day_hour', 'Final Status']).count()['uid'].unstack().plot(colors=['dodgerblue', 'red'])\n",
    "\n",
    "plt.xlabel('Launch Time of Day (nearest hour)')\n",
    "plt.xticks([0., 1., 2., 3., 4., 5., 6., 7, 8., 9., 10., 11., 12., 13., 14., 15., 16., 17., 18., 19., 20., 21., 22., 23.,])"
   ]
  },
  {
   "cell_type": "code",
   "execution_count": 150,
   "metadata": {},
   "outputs": [
    {
     "data": {
      "text/html": [
       "<div>\n",
       "<style scoped>\n",
       "    .dataframe tbody tr th:only-of-type {\n",
       "        vertical-align: middle;\n",
       "    }\n",
       "\n",
       "    .dataframe tbody tr th {\n",
       "        vertical-align: top;\n",
       "    }\n",
       "\n",
       "    .dataframe thead th {\n",
       "        text-align: right;\n",
       "    }\n",
       "</style>\n",
       "<table border=\"1\" class=\"dataframe\">\n",
       "  <thead>\n",
       "    <tr style=\"text-align: right;\">\n",
       "      <th></th>\n",
       "      <th>launch_month</th>\n",
       "      <th>Final Status</th>\n",
       "      <th>uid</th>\n",
       "    </tr>\n",
       "  </thead>\n",
       "  <tbody>\n",
       "    <tr>\n",
       "      <td>0</td>\n",
       "      <td>1</td>\n",
       "      <td>successful</td>\n",
       "      <td>1977</td>\n",
       "    </tr>\n",
       "    <tr>\n",
       "      <td>1</td>\n",
       "      <td>1</td>\n",
       "      <td>unsuccessful</td>\n",
       "      <td>1734</td>\n",
       "    </tr>\n",
       "    <tr>\n",
       "      <td>2</td>\n",
       "      <td>2</td>\n",
       "      <td>successful</td>\n",
       "      <td>2538</td>\n",
       "    </tr>\n",
       "    <tr>\n",
       "      <td>3</td>\n",
       "      <td>2</td>\n",
       "      <td>unsuccessful</td>\n",
       "      <td>1920</td>\n",
       "    </tr>\n",
       "    <tr>\n",
       "      <td>4</td>\n",
       "      <td>3</td>\n",
       "      <td>successful</td>\n",
       "      <td>3037</td>\n",
       "    </tr>\n",
       "    <tr>\n",
       "      <td>5</td>\n",
       "      <td>3</td>\n",
       "      <td>unsuccessful</td>\n",
       "      <td>2397</td>\n",
       "    </tr>\n",
       "    <tr>\n",
       "      <td>6</td>\n",
       "      <td>4</td>\n",
       "      <td>successful</td>\n",
       "      <td>2748</td>\n",
       "    </tr>\n",
       "    <tr>\n",
       "      <td>7</td>\n",
       "      <td>4</td>\n",
       "      <td>unsuccessful</td>\n",
       "      <td>2262</td>\n",
       "    </tr>\n",
       "    <tr>\n",
       "      <td>8</td>\n",
       "      <td>5</td>\n",
       "      <td>successful</td>\n",
       "      <td>1655</td>\n",
       "    </tr>\n",
       "    <tr>\n",
       "      <td>9</td>\n",
       "      <td>5</td>\n",
       "      <td>unsuccessful</td>\n",
       "      <td>1494</td>\n",
       "    </tr>\n",
       "    <tr>\n",
       "      <td>10</td>\n",
       "      <td>6</td>\n",
       "      <td>successful</td>\n",
       "      <td>1484</td>\n",
       "    </tr>\n",
       "    <tr>\n",
       "      <td>11</td>\n",
       "      <td>6</td>\n",
       "      <td>unsuccessful</td>\n",
       "      <td>1295</td>\n",
       "    </tr>\n",
       "    <tr>\n",
       "      <td>12</td>\n",
       "      <td>7</td>\n",
       "      <td>successful</td>\n",
       "      <td>1520</td>\n",
       "    </tr>\n",
       "    <tr>\n",
       "      <td>13</td>\n",
       "      <td>7</td>\n",
       "      <td>unsuccessful</td>\n",
       "      <td>1274</td>\n",
       "    </tr>\n",
       "    <tr>\n",
       "      <td>14</td>\n",
       "      <td>8</td>\n",
       "      <td>successful</td>\n",
       "      <td>1451</td>\n",
       "    </tr>\n",
       "    <tr>\n",
       "      <td>15</td>\n",
       "      <td>8</td>\n",
       "      <td>unsuccessful</td>\n",
       "      <td>1207</td>\n",
       "    </tr>\n",
       "    <tr>\n",
       "      <td>16</td>\n",
       "      <td>9</td>\n",
       "      <td>successful</td>\n",
       "      <td>1531</td>\n",
       "    </tr>\n",
       "    <tr>\n",
       "      <td>17</td>\n",
       "      <td>9</td>\n",
       "      <td>unsuccessful</td>\n",
       "      <td>1315</td>\n",
       "    </tr>\n",
       "    <tr>\n",
       "      <td>18</td>\n",
       "      <td>10</td>\n",
       "      <td>successful</td>\n",
       "      <td>1700</td>\n",
       "    </tr>\n",
       "    <tr>\n",
       "      <td>19</td>\n",
       "      <td>10</td>\n",
       "      <td>unsuccessful</td>\n",
       "      <td>1287</td>\n",
       "    </tr>\n",
       "    <tr>\n",
       "      <td>20</td>\n",
       "      <td>11</td>\n",
       "      <td>successful</td>\n",
       "      <td>1770</td>\n",
       "    </tr>\n",
       "    <tr>\n",
       "      <td>21</td>\n",
       "      <td>11</td>\n",
       "      <td>unsuccessful</td>\n",
       "      <td>1512</td>\n",
       "    </tr>\n",
       "    <tr>\n",
       "      <td>22</td>\n",
       "      <td>12</td>\n",
       "      <td>successful</td>\n",
       "      <td>1558</td>\n",
       "    </tr>\n",
       "    <tr>\n",
       "      <td>23</td>\n",
       "      <td>12</td>\n",
       "      <td>unsuccessful</td>\n",
       "      <td>1362</td>\n",
       "    </tr>\n",
       "  </tbody>\n",
       "</table>\n",
       "</div>"
      ],
      "text/plain": [
       "    launch_month  Final Status   uid\n",
       "0              1    successful  1977\n",
       "1              1  unsuccessful  1734\n",
       "2              2    successful  2538\n",
       "3              2  unsuccessful  1920\n",
       "4              3    successful  3037\n",
       "5              3  unsuccessful  2397\n",
       "6              4    successful  2748\n",
       "7              4  unsuccessful  2262\n",
       "8              5    successful  1655\n",
       "9              5  unsuccessful  1494\n",
       "10             6    successful  1484\n",
       "11             6  unsuccessful  1295\n",
       "12             7    successful  1520\n",
       "13             7  unsuccessful  1274\n",
       "14             8    successful  1451\n",
       "15             8  unsuccessful  1207\n",
       "16             9    successful  1531\n",
       "17             9  unsuccessful  1315\n",
       "18            10    successful  1700\n",
       "19            10  unsuccessful  1287\n",
       "20            11    successful  1770\n",
       "21            11  unsuccessful  1512\n",
       "22            12    successful  1558\n",
       "23            12  unsuccessful  1362"
      ]
     },
     "execution_count": 150,
     "metadata": {},
     "output_type": "execute_result"
    }
   ],
   "source": [
    "df_month"
   ]
  },
  {
   "cell_type": "code",
   "execution_count": null,
   "metadata": {},
   "outputs": [],
   "source": []
  },
  {
   "cell_type": "code",
   "execution_count": null,
   "metadata": {},
   "outputs": [],
   "source": []
  },
  {
   "cell_type": "code",
   "execution_count": null,
   "metadata": {},
   "outputs": [],
   "source": []
  },
  {
   "cell_type": "code",
   "execution_count": null,
   "metadata": {},
   "outputs": [],
   "source": []
  }
 ],
 "metadata": {
  "kernelspec": {
   "display_name": "Python 3",
   "language": "python",
   "name": "python3"
  },
  "language_info": {
   "codemirror_mode": {
    "name": "ipython",
    "version": 3
   },
   "file_extension": ".py",
   "mimetype": "text/x-python",
   "name": "python",
   "nbconvert_exporter": "python",
   "pygments_lexer": "ipython3",
   "version": "3.7.2"
  }
 },
 "nbformat": 4,
 "nbformat_minor": 2
}
