{
 "cells": [
  {
   "cell_type": "markdown",
   "metadata": {},
   "source": [
    "Part 2: Qualitative Analysis\n",
    "Create a presentation using Google Slides (max. 5 slides) using the data above (and additional data from those tables) that make clear recommendations on how people can create a successful Kickstarter campaign.\n",
    "\n",
    "* **What's the best length of time to run a campaign?**"
   ]
  },
  {
   "cell_type": "code",
   "execution_count": 3,
   "metadata": {},
   "outputs": [
    {
     "name": "stdout",
     "output_type": "stream",
     "text": [
      "The autoreload extension is already loaded. To reload it, use:\n",
      "  %reload_ext autoreload\n"
     ]
    }
   ],
   "source": [
    "%load_ext autoreload\n",
    "%autoreload 2\n",
    "%matplotlib inline"
   ]
  },
  {
   "cell_type": "code",
   "execution_count": 196,
   "metadata": {},
   "outputs": [],
   "source": [
    "from tools.helpers import read_json\n",
    "import pandas as pd\n",
    "import numpy as np\n",
    "import matplotlib.pyplot as plt\n",
    "\n",
    "plt.style.use('ggplot')\n",
    "plt.rcParams['figure.figsize'] = [8, 6]"
   ]
  },
  {
   "cell_type": "code",
   "execution_count": 183,
   "metadata": {},
   "outputs": [],
   "source": [
    "in_csv = 'data/input/DSI_kickstarterscrape_dataset.csv'"
   ]
  },
  {
   "cell_type": "code",
   "execution_count": 184,
   "metadata": {},
   "outputs": [],
   "source": [
    "df = pd.read_csv(in_csv, encoding=\"ISO-8859-1\")\n",
    "# if need to convert back to utf-8 https://stackoverflow.com/questions/42456867/convert-pandas-dataframe-to-utf8\n",
    "\n",
    "df = df.rename(columns=lambda x: x.replace(' ', '_'))\n",
    "df['uid'] = df.index + 1"
   ]
  },
  {
   "cell_type": "code",
   "execution_count": 229,
   "metadata": {},
   "outputs": [],
   "source": [
    "colors = {'failed': 'red', 'live': 'grey', 'canceled': 'orange', 'suspended': 'yellow', 'successful': 'dodgerblue'}"
   ]
  },
  {
   "cell_type": "code",
   "execution_count": 230,
   "metadata": {},
   "outputs": [
    {
     "data": {
      "text/plain": [
       "<matplotlib.axes._subplots.AxesSubplot at 0x1283bd1d0>"
      ]
     },
     "execution_count": 230,
     "metadata": {},
     "output_type": "execute_result"
    },
    {
     "data": {
      "image/png": "[encoded data removed]",
      "text/plain": [
       "<Figure size 576x432 with 1 Axes>"
      ]
     },
     "metadata": {},
     "output_type": "display_data"
    }
   ],
   "source": [
    "# df.duration.hist(histtype='bar', density=True, stacked=True, colors=df['status'].apply(lambda x: colors[x]))  # color=colors, label=colors,\n",
    "\n",
    "df.duration.hist(density=True, histtype='bar')# , color=colors, label=colors)"
   ]
  },
  {
   "cell_type": "code",
   "execution_count": 231,
   "metadata": {},
   "outputs": [],
   "source": [
    "# filter outliers\n",
    "from scipy import stats\n",
    "\n",
    "dfs = df[['uid', 'funded_percentage']]\n",
    "\n",
    "dff = dfs[(np.abs(stats.zscore(dfs)) < 3).all(axis=1)]"
   ]
  },
  {
   "cell_type": "code",
   "execution_count": 232,
   "metadata": {},
   "outputs": [
    {
     "data": {
      "text/html": [
       "<div>\n",
       "<style scoped>\n",
       "    .dataframe tbody tr th:only-of-type {\n",
       "        vertical-align: middle;\n",
       "    }\n",
       "\n",
       "    .dataframe tbody tr th {\n",
       "        vertical-align: top;\n",
       "    }\n",
       "\n",
       "    .dataframe thead th {\n",
       "        text-align: right;\n",
       "    }\n",
       "</style>\n",
       "<table border=\"1\" class=\"dataframe\">\n",
       "  <thead>\n",
       "    <tr style=\"text-align: right;\">\n",
       "      <th></th>\n",
       "      <th>uid</th>\n",
       "      <th>funded_percentage</th>\n",
       "    </tr>\n",
       "  </thead>\n",
       "  <tbody>\n",
       "    <tr>\n",
       "      <td>0</td>\n",
       "      <td>1</td>\n",
       "      <td>1.099524</td>\n",
       "    </tr>\n",
       "    <tr>\n",
       "      <td>1</td>\n",
       "      <td>2</td>\n",
       "      <td>0.005000</td>\n",
       "    </tr>\n",
       "    <tr>\n",
       "      <td>2</td>\n",
       "      <td>3</td>\n",
       "      <td>0.002800</td>\n",
       "    </tr>\n",
       "    <tr>\n",
       "      <td>3</td>\n",
       "      <td>4</td>\n",
       "      <td>1.089167</td>\n",
       "    </tr>\n",
       "    <tr>\n",
       "      <td>4</td>\n",
       "      <td>5</td>\n",
       "      <td>0.000000</td>\n",
       "    </tr>\n",
       "    <tr>\n",
       "      <td>...</td>\n",
       "      <td>...</td>\n",
       "      <td>...</td>\n",
       "    </tr>\n",
       "    <tr>\n",
       "      <td>45952</td>\n",
       "      <td>45953</td>\n",
       "      <td>1.202000</td>\n",
       "    </tr>\n",
       "    <tr>\n",
       "      <td>45953</td>\n",
       "      <td>45954</td>\n",
       "      <td>0.007500</td>\n",
       "    </tr>\n",
       "    <tr>\n",
       "      <td>45954</td>\n",
       "      <td>45955</td>\n",
       "      <td>1.000000</td>\n",
       "    </tr>\n",
       "    <tr>\n",
       "      <td>45955</td>\n",
       "      <td>45956</td>\n",
       "      <td>0.085695</td>\n",
       "    </tr>\n",
       "    <tr>\n",
       "      <td>45956</td>\n",
       "      <td>45957</td>\n",
       "      <td>1.042111</td>\n",
       "    </tr>\n",
       "  </tbody>\n",
       "</table>\n",
       "<p>45932 rows × 2 columns</p>\n",
       "</div>"
      ],
      "text/plain": [
       "         uid  funded_percentage\n",
       "0          1           1.099524\n",
       "1          2           0.005000\n",
       "2          3           0.002800\n",
       "3          4           1.089167\n",
       "4          5           0.000000\n",
       "...      ...                ...\n",
       "45952  45953           1.202000\n",
       "45953  45954           0.007500\n",
       "45954  45955           1.000000\n",
       "45955  45956           0.085695\n",
       "45956  45957           1.042111\n",
       "\n",
       "[45932 rows x 2 columns]"
      ]
     },
     "execution_count": 232,
     "metadata": {},
     "output_type": "execute_result"
    }
   ],
   "source": [
    "dff"
   ]
  },
  {
   "cell_type": "code",
   "execution_count": 233,
   "metadata": {},
   "outputs": [
    {
     "data": {
      "text/plain": [
       "<matplotlib.collections.PathCollection at 0x12a13cd30>"
      ]
     },
     "execution_count": 233,
     "metadata": {},
     "output_type": "execute_result"
    },
    {
     "data": {
      "image/png": "[encoded data removed]",
      "text/plain": [
       "<Figure size 576x432 with 1 Axes>"
      ]
     },
     "metadata": {},
     "output_type": "display_data"
    }
   ],
   "source": [
    "import matplotlib.patches as mpatches\n",
    "\n",
    "dfm = dff.merge(df.drop('funded_percentage', axis=1), how='left', on='uid')\n",
    "\n",
    "plt.title('Duration of Campaign vs. Funded Percentage') #, fontsize=18)\n",
    "plt.xlabel('Duration') #, fontsize=18)\n",
    "plt.ylabel('Funded Percentage') #, fontsize=16)\n",
    "\n",
    "patchList = []\n",
    "for key in colors:\n",
    "        data_key = mpatches.Patch(color=colors[key], label=key)\n",
    "        patchList.append(data_key)\n",
    "\n",
    "plt.legend(handles=patchList)\n",
    "\n",
    "plt.scatter(dfm.duration, dfm.funded_percentage, facecolors='none', edgecolors=dfm['status'].apply(lambda x: colors[x]))  # s=dfm.funded_percentage, "
   ]
  },
  {
   "cell_type": "code",
   "execution_count": null,
   "metadata": {},
   "outputs": [],
   "source": []
  },
  {
   "cell_type": "code",
   "execution_count": 234,
   "metadata": {},
   "outputs": [
    {
     "data": {
      "text/plain": [
       "<matplotlib.axes._subplots.AxesSubplot at 0x12a15f860>"
      ]
     },
     "execution_count": 234,
     "metadata": {},
     "output_type": "execute_result"
    },
    {
     "data": {
      "image/png": "[encoded data removed]",
      "text/plain": [
       "<Figure size 576x432 with 1 Axes>"
      ]
     },
     "metadata": {},
     "output_type": "display_data"
    }
   ],
   "source": [
    "dfms = dfm[(dfm.status == 'successful')]\n",
    "\n",
    "dfms.duration.hist()"
   ]
  },
  {
   "cell_type": "code",
   "execution_count": 235,
   "metadata": {},
   "outputs": [
    {
     "name": "stdout",
     "output_type": "stream",
     "text": [
      "19059\n"
     ]
    }
   ],
   "source": [
    "dfmu = dfm[(dfm.status != 'successful') & (dfm.status != 'live')]\n",
    "\n",
    "print(len(dfmu.index))"
   ]
  },
  {
   "cell_type": "code",
   "execution_count": 236,
   "metadata": {},
   "outputs": [
    {
     "data": {
      "text/plain": [
       "<matplotlib.axes._subplots.AxesSubplot at 0x12a1e7240>"
      ]
     },
     "execution_count": 236,
     "metadata": {},
     "output_type": "execute_result"
    },
    {
     "data": {
      "image/png": "[encoded data removed]",
      "text/plain": [
       "<Figure size 576x432 with 1 Axes>"
      ]
     },
     "metadata": {},
     "output_type": "display_data"
    }
   ],
   "source": [
    "dfmu.duration.hist()"
   ]
  },
  {
   "cell_type": "code",
   "execution_count": 242,
   "metadata": {},
   "outputs": [
    {
     "data": {
      "text/plain": [
       "Text(52, 5000, 'Suggested Day Limit')"
      ]
     },
     "execution_count": 242,
     "metadata": {},
     "output_type": "execute_result"
    },
    {
     "data": {
      "image/png": "[encoded data removed]",
      "text/plain": [
       "<Figure size 576x432 with 1 Axes>"
      ]
     },
     "metadata": {},
     "output_type": "display_data"
    }
   ],
   "source": [
    "# Make a separate list for each airline\n",
    "# x1 = list(flights[flights['name'] == 'United Air Lines Inc.']['arr_delay'])\n",
    "# x2 = list(flights[flights['name'] == 'JetBlue Airways']['arr_delay'])\n",
    "# x3 = list(flights[flights['name'] == 'ExpressJet Airlines Inc.']['arr_delay'])\n",
    "# x4 = list(flights[flights['name'] == 'Delta Air Lines Inc.']['arr_delay'])\n",
    "# x5 = list(flights[flights['name'] == 'American Airlines Inc.']['arr_delay'])\n",
    "\n",
    "x1 = list(dfms.duration)\n",
    "x2 = list(dfmu.duration)\n",
    "\n",
    "\n",
    "# Assign colors for each airline and the names\n",
    "colors = ['dodgerblue', 'red'] #, '#F0E442', '#009E73', '#D55E00']\n",
    "\n",
    "# Plot formatting\n",
    "plt.xlabel('Duration in Days')\n",
    "plt.ylabel('Count Campaigns')\n",
    "plt.title('Campaign Success and Duration in Days')\n",
    "\n",
    "\n",
    "plt.hist(\n",
    "    [x1, x2], \n",
    "    bins=[0, 10, 20, 30, 40, 50, 60, 70, 80, 90, 100], \n",
    "    density=False,\n",
    "    color = colors,\n",
    "    # labels=['masdfadsfds', 'sasdfdass'],\n",
    "    \n",
    ")\n",
    "plt.legend(labels=['Successful Campaign', 'Unsuccessful Campaign'], fontsize=12)\n",
    "plt.axvline(x=50, color='black', linestyle='--', linewidth=5)\n",
    "plt.text(\n",
    "    52, 5000, \n",
    "    'Suggested Day Limit', \n",
    "    horizontalalignment='left',\n",
    "    verticalalignment='center',\n",
    "    fontsize=15\n",
    ")"
   ]
  },
  {
   "cell_type": "code",
   "execution_count": 246,
   "metadata": {},
   "outputs": [],
   "source": [
    "df30 = df[(df.duration >= 50) & (df.duration < 60)]\n",
    "\n",
    "\n",
    "dfgt = df30.groupby(['status']).count()"
   ]
  },
  {
   "cell_type": "code",
   "execution_count": 247,
   "metadata": {},
   "outputs": [
    {
     "data": {
      "text/html": [
       "<div>\n",
       "<style scoped>\n",
       "    .dataframe tbody tr th:only-of-type {\n",
       "        vertical-align: middle;\n",
       "    }\n",
       "\n",
       "    .dataframe tbody tr th {\n",
       "        vertical-align: top;\n",
       "    }\n",
       "\n",
       "    .dataframe thead th {\n",
       "        text-align: right;\n",
       "    }\n",
       "</style>\n",
       "<table border=\"1\" class=\"dataframe\">\n",
       "  <thead>\n",
       "    <tr style=\"text-align: right;\">\n",
       "      <th></th>\n",
       "      <th>project_id</th>\n",
       "      <th>name</th>\n",
       "      <th>url</th>\n",
       "      <th>category</th>\n",
       "      <th>subcategory</th>\n",
       "      <th>location</th>\n",
       "      <th>goal</th>\n",
       "      <th>pledged</th>\n",
       "      <th>funded_percentage</th>\n",
       "      <th>backers</th>\n",
       "      <th>funded_date</th>\n",
       "      <th>levels</th>\n",
       "      <th>reward_levels</th>\n",
       "      <th>updates</th>\n",
       "      <th>comments</th>\n",
       "      <th>duration</th>\n",
       "      <th>uid</th>\n",
       "    </tr>\n",
       "    <tr>\n",
       "      <th>status</th>\n",
       "      <th></th>\n",
       "      <th></th>\n",
       "      <th></th>\n",
       "      <th></th>\n",
       "      <th></th>\n",
       "      <th></th>\n",
       "      <th></th>\n",
       "      <th></th>\n",
       "      <th></th>\n",
       "      <th></th>\n",
       "      <th></th>\n",
       "      <th></th>\n",
       "      <th></th>\n",
       "      <th></th>\n",
       "      <th></th>\n",
       "      <th></th>\n",
       "      <th></th>\n",
       "    </tr>\n",
       "  </thead>\n",
       "  <tbody>\n",
       "    <tr>\n",
       "      <td>canceled</td>\n",
       "      <td>3</td>\n",
       "      <td>3</td>\n",
       "      <td>3</td>\n",
       "      <td>3</td>\n",
       "      <td>3</td>\n",
       "      <td>3</td>\n",
       "      <td>3</td>\n",
       "      <td>3</td>\n",
       "      <td>3</td>\n",
       "      <td>3</td>\n",
       "      <td>3</td>\n",
       "      <td>3</td>\n",
       "      <td>3</td>\n",
       "      <td>3</td>\n",
       "      <td>3</td>\n",
       "      <td>3</td>\n",
       "      <td>3</td>\n",
       "    </tr>\n",
       "    <tr>\n",
       "      <td>failed</td>\n",
       "      <td>1508</td>\n",
       "      <td>1508</td>\n",
       "      <td>1508</td>\n",
       "      <td>1508</td>\n",
       "      <td>1508</td>\n",
       "      <td>1432</td>\n",
       "      <td>1508</td>\n",
       "      <td>1508</td>\n",
       "      <td>1508</td>\n",
       "      <td>1508</td>\n",
       "      <td>1508</td>\n",
       "      <td>1508</td>\n",
       "      <td>1506</td>\n",
       "      <td>1508</td>\n",
       "      <td>1508</td>\n",
       "      <td>1508</td>\n",
       "      <td>1508</td>\n",
       "    </tr>\n",
       "    <tr>\n",
       "      <td>live</td>\n",
       "      <td>203</td>\n",
       "      <td>203</td>\n",
       "      <td>203</td>\n",
       "      <td>203</td>\n",
       "      <td>203</td>\n",
       "      <td>203</td>\n",
       "      <td>203</td>\n",
       "      <td>203</td>\n",
       "      <td>203</td>\n",
       "      <td>203</td>\n",
       "      <td>203</td>\n",
       "      <td>203</td>\n",
       "      <td>203</td>\n",
       "      <td>203</td>\n",
       "      <td>203</td>\n",
       "      <td>203</td>\n",
       "      <td>203</td>\n",
       "    </tr>\n",
       "    <tr>\n",
       "      <td>successful</td>\n",
       "      <td>1430</td>\n",
       "      <td>1430</td>\n",
       "      <td>1430</td>\n",
       "      <td>1430</td>\n",
       "      <td>1430</td>\n",
       "      <td>1384</td>\n",
       "      <td>1430</td>\n",
       "      <td>1430</td>\n",
       "      <td>1430</td>\n",
       "      <td>1430</td>\n",
       "      <td>1430</td>\n",
       "      <td>1430</td>\n",
       "      <td>1428</td>\n",
       "      <td>1430</td>\n",
       "      <td>1430</td>\n",
       "      <td>1430</td>\n",
       "      <td>1430</td>\n",
       "    </tr>\n",
       "  </tbody>\n",
       "</table>\n",
       "</div>"
      ],
      "text/plain": [
       "            project_id  name   url  category  subcategory  location  goal  \\\n",
       "status                                                                      \n",
       "canceled             3     3     3         3            3         3     3   \n",
       "failed            1508  1508  1508      1508         1508      1432  1508   \n",
       "live               203   203   203       203          203       203   203   \n",
       "successful        1430  1430  1430      1430         1430      1384  1430   \n",
       "\n",
       "            pledged  funded_percentage  backers  funded_date  levels  \\\n",
       "status                                                                 \n",
       "canceled          3                  3        3            3       3   \n",
       "failed         1508               1508     1508         1508    1508   \n",
       "live            203                203      203          203     203   \n",
       "successful     1430               1430     1430         1430    1430   \n",
       "\n",
       "            reward_levels  updates  comments  duration   uid  \n",
       "status                                                        \n",
       "canceled                3        3         3         3     3  \n",
       "failed               1506     1508      1508      1508  1508  \n",
       "live                  203      203       203       203   203  \n",
       "successful           1428     1430      1430      1430  1430  "
      ]
     },
     "execution_count": 247,
     "metadata": {},
     "output_type": "execute_result"
    }
   ],
   "source": [
    "dfgt"
   ]
  },
  {
   "cell_type": "code",
   "execution_count": 250,
   "metadata": {},
   "outputs": [
    {
     "data": {
      "text/html": [
       "<div>\n",
       "<style scoped>\n",
       "    .dataframe tbody tr th:only-of-type {\n",
       "        vertical-align: middle;\n",
       "    }\n",
       "\n",
       "    .dataframe tbody tr th {\n",
       "        vertical-align: top;\n",
       "    }\n",
       "\n",
       "    .dataframe thead th {\n",
       "        text-align: right;\n",
       "    }\n",
       "</style>\n",
       "<table border=\"1\" class=\"dataframe\">\n",
       "  <thead>\n",
       "    <tr style=\"text-align: right;\">\n",
       "      <th></th>\n",
       "      <th>project_id</th>\n",
       "      <th>name</th>\n",
       "      <th>url</th>\n",
       "      <th>category</th>\n",
       "      <th>subcategory</th>\n",
       "      <th>location</th>\n",
       "      <th>goal</th>\n",
       "      <th>pledged</th>\n",
       "      <th>funded_percentage</th>\n",
       "      <th>backers</th>\n",
       "      <th>funded_date</th>\n",
       "      <th>levels</th>\n",
       "      <th>reward_levels</th>\n",
       "      <th>updates</th>\n",
       "      <th>comments</th>\n",
       "      <th>duration</th>\n",
       "      <th>uid</th>\n",
       "    </tr>\n",
       "    <tr>\n",
       "      <th>status</th>\n",
       "      <th></th>\n",
       "      <th></th>\n",
       "      <th></th>\n",
       "      <th></th>\n",
       "      <th></th>\n",
       "      <th></th>\n",
       "      <th></th>\n",
       "      <th></th>\n",
       "      <th></th>\n",
       "      <th></th>\n",
       "      <th></th>\n",
       "      <th></th>\n",
       "      <th></th>\n",
       "      <th></th>\n",
       "      <th></th>\n",
       "      <th></th>\n",
       "      <th></th>\n",
       "    </tr>\n",
       "  </thead>\n",
       "  <tbody>\n",
       "    <tr>\n",
       "      <td>canceled</td>\n",
       "      <td>59</td>\n",
       "      <td>59</td>\n",
       "      <td>59</td>\n",
       "      <td>59</td>\n",
       "      <td>59</td>\n",
       "      <td>59</td>\n",
       "      <td>59</td>\n",
       "      <td>59</td>\n",
       "      <td>59</td>\n",
       "      <td>59</td>\n",
       "      <td>59</td>\n",
       "      <td>59</td>\n",
       "      <td>59</td>\n",
       "      <td>59</td>\n",
       "      <td>59</td>\n",
       "      <td>59</td>\n",
       "      <td>59</td>\n",
       "    </tr>\n",
       "    <tr>\n",
       "      <td>failed</td>\n",
       "      <td>18996</td>\n",
       "      <td>18996</td>\n",
       "      <td>18996</td>\n",
       "      <td>18996</td>\n",
       "      <td>18996</td>\n",
       "      <td>18304</td>\n",
       "      <td>18996</td>\n",
       "      <td>18996</td>\n",
       "      <td>18996</td>\n",
       "      <td>18996</td>\n",
       "      <td>18996</td>\n",
       "      <td>18996</td>\n",
       "      <td>18957</td>\n",
       "      <td>18996</td>\n",
       "      <td>18996</td>\n",
       "      <td>18996</td>\n",
       "      <td>18996</td>\n",
       "    </tr>\n",
       "    <tr>\n",
       "      <td>live</td>\n",
       "      <td>3929</td>\n",
       "      <td>3929</td>\n",
       "      <td>3929</td>\n",
       "      <td>3929</td>\n",
       "      <td>3929</td>\n",
       "      <td>3929</td>\n",
       "      <td>3929</td>\n",
       "      <td>3917</td>\n",
       "      <td>3929</td>\n",
       "      <td>3929</td>\n",
       "      <td>3929</td>\n",
       "      <td>3929</td>\n",
       "      <td>3929</td>\n",
       "      <td>3929</td>\n",
       "      <td>3929</td>\n",
       "      <td>3929</td>\n",
       "      <td>3929</td>\n",
       "    </tr>\n",
       "    <tr>\n",
       "      <td>successful</td>\n",
       "      <td>22969</td>\n",
       "      <td>22969</td>\n",
       "      <td>22969</td>\n",
       "      <td>22969</td>\n",
       "      <td>22969</td>\n",
       "      <td>22339</td>\n",
       "      <td>22969</td>\n",
       "      <td>22969</td>\n",
       "      <td>22969</td>\n",
       "      <td>22969</td>\n",
       "      <td>22969</td>\n",
       "      <td>22969</td>\n",
       "      <td>22949</td>\n",
       "      <td>22969</td>\n",
       "      <td>22969</td>\n",
       "      <td>22969</td>\n",
       "      <td>22969</td>\n",
       "    </tr>\n",
       "    <tr>\n",
       "      <td>suspended</td>\n",
       "      <td>4</td>\n",
       "      <td>4</td>\n",
       "      <td>4</td>\n",
       "      <td>4</td>\n",
       "      <td>4</td>\n",
       "      <td>4</td>\n",
       "      <td>4</td>\n",
       "      <td>4</td>\n",
       "      <td>4</td>\n",
       "      <td>4</td>\n",
       "      <td>4</td>\n",
       "      <td>4</td>\n",
       "      <td>4</td>\n",
       "      <td>4</td>\n",
       "      <td>4</td>\n",
       "      <td>4</td>\n",
       "      <td>4</td>\n",
       "    </tr>\n",
       "  </tbody>\n",
       "</table>\n",
       "</div>"
      ],
      "text/plain": [
       "            project_id   name    url  category  subcategory  location   goal  \\\n",
       "status                                                                         \n",
       "canceled            59     59     59        59           59        59     59   \n",
       "failed           18996  18996  18996     18996        18996     18304  18996   \n",
       "live              3929   3929   3929      3929         3929      3929   3929   \n",
       "successful       22969  22969  22969     22969        22969     22339  22969   \n",
       "suspended            4      4      4         4            4         4      4   \n",
       "\n",
       "            pledged  funded_percentage  backers  funded_date  levels  \\\n",
       "status                                                                 \n",
       "canceled         59                 59       59           59      59   \n",
       "failed        18996              18996    18996        18996   18996   \n",
       "live           3917               3929     3929         3929    3929   \n",
       "successful    22969              22969    22969        22969   22969   \n",
       "suspended         4                  4        4            4       4   \n",
       "\n",
       "            reward_levels  updates  comments  duration    uid  \n",
       "status                                                         \n",
       "canceled               59       59        59        59     59  \n",
       "failed              18957    18996     18996     18996  18996  \n",
       "live                 3929     3929      3929      3929   3929  \n",
       "successful          22949    22969     22969     22969  22969  \n",
       "suspended               4        4         4         4      4  "
      ]
     },
     "execution_count": 250,
     "metadata": {},
     "output_type": "execute_result"
    }
   ],
   "source": [
    "df.groupby('status').count()"
   ]
  },
  {
   "cell_type": "code",
   "execution_count": null,
   "metadata": {},
   "outputs": [],
   "source": []
  }
 ],
 "metadata": {
  "kernelspec": {
   "display_name": "Python 3",
   "language": "python",
   "name": "python3"
  },
  "language_info": {
   "codemirror_mode": {
    "name": "ipython",
    "version": 3
   },
   "file_extension": ".py",
   "mimetype": "text/x-python",
   "name": "python",
   "nbconvert_exporter": "python",
   "pygments_lexer": "ipython3",
   "version": "3.7.2"
  }
 },
 "nbformat": 4,
 "nbformat_minor": 2
}
