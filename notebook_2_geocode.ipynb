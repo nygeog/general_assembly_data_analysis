{
 "cells": [
  {
   "cell_type": "code",
   "execution_count": 2,
   "metadata": {},
   "outputs": [],
   "source": [
    "from mapboxgl.utils import *\n",
    "from mapboxgl.viz import *\n",
    "from tools.helpers import read_json\n",
    "import pandas as pd"
   ]
  },
  {
   "cell_type": "code",
   "execution_count": 3,
   "metadata": {},
   "outputs": [],
   "source": [
    "config = read_json('config.json')\n",
    "mapbox_key = config['mapbox_key']"
   ]
  },
  {
   "cell_type": "code",
   "execution_count": 4,
   "metadata": {},
   "outputs": [],
   "source": [
    "in_csv = 'data/input/DSI_kickstarterscrape_dataset.csv'"
   ]
  },
  {
   "cell_type": "code",
   "execution_count": 5,
   "metadata": {},
   "outputs": [],
   "source": [
    "df = pd.read_csv(in_csv, encoding=\"ISO-8859-1\")\n",
    "# if need to convert back to utf-8 https://stackoverflow.com/questions/42456867/convert-pandas-dataframe-to-utf8"
   ]
  },
  {
   "cell_type": "code",
   "execution_count": 6,
   "metadata": {},
   "outputs": [],
   "source": [
    "dfg = df.groupby('location', as_index=False).count()"
   ]
  },
  {
   "cell_type": "code",
   "execution_count": null,
   "metadata": {},
   "outputs": [],
   "source": [
    "from mapbox import Geocoder\n",
    "\n",
    "geocoder = Geocoder(access_token=mapbox_key)"
   ]
  },
  {
   "cell_type": "code",
   "execution_count": null,
   "metadata": {},
   "outputs": [],
   "source": [
    "def geocode_address(address):\n",
    "    \"\"\"Geocode street address into lat/long.\"\"\"\n",
    "    print(address)\n",
    "    response = geocoder.forward(address)\n",
    "    print(response.json())\n",
    "    return response.json()\n",
    "\n",
    "\n",
    "def geocode_dataframe(row):\n",
    "    \"\"\"Geocode start and end address.\"\"\"\n",
    "    dfg['lat_lng'] = dfg(row['location'])"
   ]
  },
  {
   "cell_type": "code",
   "execution_count": null,
   "metadata": {},
   "outputs": [],
   "source": [
    "# dfg['location'] = dfg.location.apply(geocode_address)   # this is diff., initially was just dfg = hence the dict. \n",
    "\n",
    "# this was run\n",
    "# dfg = dfg.location.apply(geocode_address)\n",
    "\n",
    "# these geocodes run against Mapbox geocoding credits, so be careful. \n"
   ]
  },
  {
   "cell_type": "code",
   "execution_count": null,
   "metadata": {},
   "outputs": [],
   "source": [
    "dfgg.columns = ['index', 'location']"
   ]
  },
  {
   "cell_type": "code",
   "execution_count": null,
   "metadata": {},
   "outputs": [],
   "source": [
    "x = pd.DataFrame(dfgg)"
   ]
  },
  {
   "cell_type": "code",
   "execution_count": null,
   "metadata": {},
   "outputs": [],
   "source": [
    "blah = []\n",
    "\n",
    "for i in range(len(x.index)):\n",
    "    if 'features' in x.location[i]:\n",
    "        print(i)\n",
    "        try:\n",
    "            blah.append([i, x.location[i]['features'][0]['center'][0], x.location[i]['features'][0]['center'][1]])\n",
    "        except:\n",
    "            print(x.location[i]['features'])\n",
    "            blah.append([i, 0, 0])\n",
    "    else:\n",
    "        blah.append([i, 0, 0])"
   ]
  },
  {
   "cell_type": "code",
   "execution_count": null,
   "metadata": {},
   "outputs": [],
   "source": [
    "dfObj = pd.DataFrame(blah) "
   ]
  },
  {
   "cell_type": "code",
   "execution_count": null,
   "metadata": {},
   "outputs": [],
   "source": [
    "# dfObj.columns = ['num', 'long', 'lat']\n",
    "\n",
    "dfObj.to_csv('data/processing/geocodes.csv', index=False)"
   ]
  },
  {
   "cell_type": "code",
   "execution_count": null,
   "metadata": {},
   "outputs": [],
   "source": [
    "# Create a geojson file export from the current dataframe\n",
    "df_to_geojson(\n",
    "    dfObj, \n",
    "    filename='data/processing.geojson',\n",
    "    properties=['num'], \n",
    "    lat='lat', \n",
    "    lon='long', \n",
    "    precision=3,\n",
    ")"
   ]
  }
 ],
 "metadata": {
  "kernelspec": {
   "display_name": "Python 3",
   "language": "python",
   "name": "python3"
  },
  "language_info": {
   "codemirror_mode": {
    "name": "ipython",
    "version": 3
   },
   "file_extension": ".py",
   "mimetype": "text/x-python",
   "name": "python",
   "nbconvert_exporter": "python",
   "pygments_lexer": "ipython3",
   "version": "3.7.2"
  }
 },
 "nbformat": 4,
 "nbformat_minor": 2
}
